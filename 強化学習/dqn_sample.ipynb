{
 "cells": [
  {
   "cell_type": "code",
   "execution_count": 2,
   "metadata": {
    "colab": {
     "base_uri": "https://localhost:8080/",
     "height": 1000
    },
    "colab_type": "code",
    "executionInfo": {
     "elapsed": 4181,
     "status": "ok",
     "timestamp": 1568040462934,
     "user": {
      "displayName": "中曽根雄",
      "photoUrl": "",
      "userId": "09464543725176364259"
     },
     "user_tz": -540
    },
    "id": "ktda81FvfQYd",
    "outputId": "0cccffd3-f980-4866-daea-f3dd53a2ce69"
   },
   "outputs": [
    {
     "name": "stdout",
     "output_type": "stream",
     "text": [
      "Package                  Version              \n",
      "------------------------ ---------------------\n",
      "absl-py                  0.8.0                \n",
      "alabaster                0.7.12               \n",
      "albumentations           0.1.12               \n",
      "altair                   3.2.0                \n",
      "astor                    0.8.0                \n",
      "astropy                  3.0.5                \n",
      "atari-py                 0.1.15               \n",
      "atomicwrites             1.3.0                \n",
      "attrs                    19.1.0               \n",
      "audioread                2.1.8                \n",
      "autograd                 1.3                  \n",
      "Babel                    2.7.0                \n",
      "backcall                 0.1.0                \n",
      "backports.tempfile       1.0                  \n",
      "backports.weakref        1.0.post1            \n",
      "beautifulsoup4           4.6.3                \n",
      "bleach                   3.1.0                \n",
      "blis                     0.2.4                \n",
      "bokeh                    1.0.4                \n",
      "boto                     2.49.0               \n",
      "boto3                    1.9.220              \n",
      "botocore                 1.12.220             \n",
      "Bottleneck               1.2.1                \n",
      "branca                   0.3.1                \n",
      "bs4                      0.0.1                \n",
      "bz2file                  0.98                 \n",
      "cachetools               3.1.1                \n",
      "certifi                  2019.6.16            \n",
      "cffi                     1.12.3               \n",
      "chainer                  5.4.0                \n",
      "chardet                  3.0.4                \n",
      "Click                    7.0                  \n",
      "cloudpickle              0.6.1                \n",
      "cmake                    3.12.0               \n",
      "colorlover               0.3.0                \n",
      "community                1.0.0b1              \n",
      "contextlib2              0.5.5                \n",
      "convertdate              2.1.3                \n",
      "coverage                 3.7.1                \n",
      "coveralls                0.5                  \n",
      "crcmod                   1.7                  \n",
      "cufflinks                0.14.6               \n",
      "cupy-cuda100             5.4.0                \n",
      "cvxopt                   1.2.3                \n",
      "cvxpy                    1.0.25               \n",
      "cycler                   0.10.0               \n",
      "cymem                    2.0.2                \n",
      "Cython                   0.29.13              \n",
      "daft                     0.0.4                \n",
      "dask                     1.1.5                \n",
      "dataclasses              0.6                  \n",
      "datascience              0.10.6               \n",
      "decorator                4.4.0                \n",
      "defusedxml               0.6.0                \n",
      "descartes                1.1.0                \n",
      "dill                     0.3.0                \n",
      "distributed              1.25.3               \n",
      "Django                   2.2.4                \n",
      "dlib                     19.16.0              \n",
      "dm-sonnet                1.34                 \n",
      "docopt                   0.6.2                \n",
      "docutils                 0.15.2               \n",
      "dopamine-rl              1.0.5                \n",
      "easydict                 1.9                  \n",
      "ecos                     2.0.7.post1          \n",
      "editdistance             0.5.3                \n",
      "en-core-web-sm           2.1.0                \n",
      "entrypoints              0.3                  \n",
      "ephem                    3.7.7.0              \n",
      "et-xmlfile               1.0.1                \n",
      "fa2                      0.3.5                \n",
      "fancyimpute              0.4.3                \n",
      "fastai                   1.0.57               \n",
      "fastcache                1.1.0                \n",
      "fastdtw                  0.3.2                \n",
      "fastprogress             0.1.21               \n",
      "fastrlock                0.4                  \n",
      "fbprophet                0.5                  \n",
      "feather-format           0.4.0                \n",
      "featuretools             0.4.1                \n",
      "filelock                 3.0.12               \n",
      "fix-yahoo-finance        0.0.22               \n",
      "Flask                    1.1.1                \n",
      "folium                   0.8.3                \n",
      "fsspec                   0.4.3                \n",
      "future                   0.16.0               \n",
      "gast                     0.2.2                \n",
      "GDAL                     2.2.2                \n",
      "gdown                    3.6.4                \n",
      "gensim                   3.6.0                \n",
      "geographiclib            1.49                 \n",
      "geopy                    1.17.0               \n",
      "gevent                   1.4.0                \n",
      "gin-config               0.2.1                \n",
      "glob2                    0.7                  \n",
      "google                   2.0.2                \n",
      "google-api-core          1.14.2               \n",
      "google-api-python-client 1.7.11               \n",
      "google-auth              1.4.2                \n",
      "google-auth-httplib2     0.0.3                \n",
      "google-auth-oauthlib     0.4.0                \n",
      "google-cloud-bigquery    1.14.0               \n",
      "google-cloud-core        1.0.3                \n",
      "google-cloud-datastore   1.8.0                \n",
      "google-cloud-language    1.2.0                \n",
      "google-cloud-storage     1.16.1               \n",
      "google-cloud-translate   1.5.0                \n",
      "google-colab             1.0.0                \n",
      "google-pasta             0.1.7                \n",
      "google-resumable-media   0.3.3                \n",
      "googleapis-common-protos 1.6.0                \n",
      "googledrivedownloader    0.4                  \n",
      "graph-nets               1.0.4                \n",
      "graphviz                 0.10.1               \n",
      "greenlet                 0.4.15               \n",
      "grpcio                   1.15.0               \n",
      "gspread                  3.0.1                \n",
      "gspread-dataframe        3.0.3                \n",
      "gunicorn                 19.9.0               \n",
      "gym                      0.10.11              \n",
      "h5py                     2.8.0                \n",
      "HeapDict                 1.0.0                \n",
      "holidays                 0.9.11               \n",
      "html5lib                 1.0.1                \n",
      "httpimport               0.5.16               \n",
      "httplib2                 0.11.3               \n",
      "humanize                 0.5.1                \n",
      "hyperopt                 0.1.2                \n",
      "ideep4py                 2.0.0.post3          \n",
      "idna                     2.8                  \n",
      "image                    1.5.27               \n",
      "imageio                  2.4.1                \n",
      "imagesize                1.1.0                \n",
      "imbalanced-learn         0.4.3                \n",
      "imblearn                 0.0                  \n",
      "imgaug                   0.2.9                \n",
      "importlib-metadata       0.20                 \n",
      "imutils                  0.5.3                \n",
      "inflect                  2.1.0                \n",
      "intel-openmp             2019.0               \n",
      "intervaltree             2.1.0                \n",
      "ipykernel                4.6.1                \n",
      "ipython                  5.5.0                \n",
      "ipython-genutils         0.2.0                \n",
      "ipython-sql              0.3.9                \n",
      "ipywidgets               7.5.1                \n",
      "itsdangerous             1.1.0                \n",
      "jax                      0.1.43               \n",
      "jaxlib                   0.1.26               \n",
      "jdcal                    1.4.1                \n",
      "jedi                     0.15.1               \n",
      "jieba                    0.39                 \n",
      "Jinja2                   2.10.1               \n",
      "jmespath                 0.9.4                \n",
      "joblib                   0.13.2               \n",
      "jpeg4py                  0.1.4                \n",
      "jsonschema               2.6.0                \n",
      "jupyter                  1.0.0                \n",
      "jupyter-client           5.3.1                \n",
      "jupyter-console          5.2.0                \n",
      "jupyter-core             4.5.0                \n",
      "kaggle                   1.5.5                \n",
      "kapre                    0.1.3.1              \n",
      "Keras                    2.2.5                \n",
      "Keras-Applications       1.0.8                \n",
      "Keras-Preprocessing      1.1.0                \n",
      "keras-vis                0.4.1                \n",
      "kiwisolver               1.1.0                \n",
      "knnimpute                0.1.0                \n",
      "librosa                  0.6.3                \n",
      "lightgbm                 2.2.3                \n",
      "llvmlite                 0.29.0               \n",
      "lmdb                     0.97                 \n",
      "lucid                    0.3.8                \n",
      "lunardate                0.2.0                \n",
      "lxml                     4.2.6                \n",
      "magenta                  0.3.19               \n",
      "Markdown                 3.1.1                \n",
      "MarkupSafe               1.1.1                \n",
      "matplotlib               3.0.3                \n",
      "matplotlib-venn          0.11.5               \n",
      "mesh-tensorflow          0.0.5                \n",
      "mido                     1.2.6                \n",
      "mir-eval                 0.5                  \n",
      "missingno                0.4.2                \n",
      "mistune                  0.8.4                \n",
      "mizani                   0.5.4                \n",
      "mkl                      2019.0               \n",
      "mlxtend                  0.14.0               \n",
      "more-itertools           7.2.0                \n",
      "moviepy                  0.2.3.5              \n",
      "mpi4py                   3.0.2                \n",
      "mpmath                   1.1.0                \n",
      "msgpack                  0.5.6                \n",
      "multiprocess             0.70.8               \n",
      "multitasking             0.0.9                \n",
      "murmurhash               1.0.2                \n",
      "music21                  5.5.0                \n",
      "natsort                  5.5.0                \n",
      "nbconvert                5.6.0                \n",
      "nbformat                 4.4.0                \n",
      "networkx                 2.3                  \n",
      "nibabel                  2.3.3                \n",
      "nltk                     3.2.5                \n",
      "nose                     1.3.7                \n",
      "notebook                 5.2.2                \n",
      "np-utils                 0.5.11.1             \n",
      "numba                    0.40.1               \n",
      "numexpr                  2.7.0                \n",
      "numpy                    1.16.5               \n",
      "nvidia-ml-py3            7.352.0              \n",
      "oauth2client             4.1.3                \n",
      "oauthlib                 3.1.0                \n",
      "okgrade                  0.4.3                \n",
      "olefile                  0.46                 \n",
      "opencv-contrib-python    3.4.3.18             \n",
      "opencv-python            3.4.5.20             \n",
      "openpyxl                 2.5.9                \n",
      "opt-einsum               3.0.1                \n",
      "osqp                     0.5.0                \n",
      "packaging                19.1                 \n",
      "palettable               3.2.0                \n",
      "pandas                   0.24.2               \n",
      "pandas-datareader        0.7.4                \n",
      "pandas-gbq               0.4.1                \n",
      "pandas-profiling         1.4.1                \n",
      "pandocfilters            1.4.2                \n",
      "parso                    0.5.1                \n",
      "pathlib                  1.0.1                \n",
      "patsy                    0.5.1                \n",
      "pexpect                  4.7.0                \n",
      "pickleshare              0.7.5                \n",
      "Pillow                   4.3.0                \n",
      "pip                      19.2.3               \n",
      "pip-tools                3.9.0                \n",
      "plac                     0.9.6                \n",
      "plotly                   3.6.1                \n",
      "plotnine                 0.5.1                \n",
      "pluggy                   0.7.1                \n",
      "portpicker               1.2.0                \n",
      "prefetch-generator       1.0.1                \n",
      "preshed                  2.0.1                \n",
      "pretty-midi              0.2.8                \n",
      "prettytable              0.7.2                \n",
      "progressbar2             3.38.0               \n",
      "prometheus-client        0.7.1                \n",
      "promise                  2.2.1                \n",
      "prompt-toolkit           1.0.16               \n",
      "protobuf                 3.7.1                \n",
      "psutil                   5.4.8                \n",
      "psycopg2                 2.7.6.1              \n",
      "ptyprocess               0.6.0                \n",
      "py                       1.8.0                \n",
      "pyarrow                  0.14.1               \n",
      "pyasn1                   0.4.6                \n",
      "pyasn1-modules           0.2.6                \n",
      "pycocotools              2.0.0                \n",
      "pycparser                2.19                 \n",
      "pydot                    1.3.0                \n",
      "pydot-ng                 2.0.0                \n",
      "pydotplus                2.0.2                \n",
      "pyemd                    0.5.1                \n",
      "pyglet                   1.4.2                \n",
      "Pygments                 2.1.3                \n",
      "pygobject                3.26.1               \n",
      "pymc3                    3.7                  \n",
      "pymongo                  3.9.0                \n",
      "pymystem3                0.2.0                \n",
      "PyOpenGL                 3.1.0                \n",
      "pyparsing                2.4.2                \n",
      "pyrsistent               0.15.4               \n",
      "pysndfile                1.3.7                \n",
      "PySocks                  1.7.0                \n",
      "pystan                   2.19.0.0             \n",
      "pytest                   3.6.4                \n",
      "python-apt               1.6.4                \n",
      "python-chess             0.23.11              \n",
      "python-dateutil          2.5.3                \n",
      "python-louvain           0.13                 \n",
      "python-rtmidi            1.3.0                \n",
      "python-slugify           3.0.3                \n",
      "python-utils             2.3.0                \n",
      "pytz                     2018.9               \n",
      "PyWavelets               1.0.3                \n",
      "PyYAML                   3.13                 \n",
      "pyzmq                    17.0.0               \n",
      "qtconsole                4.5.5                \n",
      "requests                 2.21.0               \n",
      "requests-oauthlib        1.2.0                \n",
      "resampy                  0.2.2                \n",
      "retrying                 1.3.3                \n",
      "rpy2                     2.9.5                \n",
      "rsa                      4.0                  \n",
      "s3fs                     0.3.4                \n",
      "s3transfer               0.2.1                \n",
      "scikit-image             0.15.0               \n",
      "scikit-learn             0.21.3               \n",
      "scipy                    1.3.1                \n",
      "screen-resolution-extra  0.0.0                \n",
      "scs                      2.1.1.post2          \n",
      "seaborn                  0.9.0                \n",
      "semantic-version         2.8.1                \n",
      "Send2Trash               1.5.0                \n",
      "setuptools               41.2.0               \n",
      "setuptools-git           1.2                  \n",
      "Shapely                  1.6.4.post2          \n",
      "simplegeneric            0.8.1                \n",
      "six                      1.12.0               \n",
      "sklearn                  0.0                  \n",
      "sklearn-pandas           1.8.0                \n",
      "smart-open               1.8.4                \n",
      "snowballstemmer          1.9.0                \n",
      "sortedcontainers         2.1.0                \n",
      "spacy                    2.1.8                \n",
      "Sphinx                   1.8.5                \n",
      "sphinxcontrib-websupport 1.1.2                \n",
      "SQLAlchemy               1.3.8                \n",
      "sqlparse                 0.3.0                \n",
      "srsly                    0.1.0                \n",
      "stable-baselines         2.2.1                \n",
      "statsmodels              0.10.1               \n",
      "sympy                    1.1.1                \n",
      "tables                   3.4.4                \n",
      "tabulate                 0.8.3                \n",
      "tblib                    1.4.0                \n",
      "tensor2tensor            1.11.0               \n",
      "tensorboard              1.14.0               \n",
      "tensorboardcolab         0.0.22               \n",
      "tensorflow               1.14.0               \n",
      "tensorflow-estimator     1.14.0               \n",
      "tensorflow-hub           0.6.0                \n",
      "tensorflow-metadata      0.14.0               \n",
      "tensorflow-probability   0.7.0                \n",
      "termcolor                1.1.0                \n",
      "terminado                0.8.2                \n",
      "testpath                 0.4.2                \n",
      "text-unidecode           1.2                  \n",
      "textblob                 0.15.3               \n",
      "textgenrnn               1.4.1                \n",
      "tfds-nightly             1.2.0.dev201908300105\n",
      "tflearn                  0.3.2                \n",
      "Theano                   1.0.4                \n",
      "thinc                    7.0.8                \n",
      "toolz                    0.10.0               \n",
      "torch                    1.1.0                \n",
      "torchsummary             1.5.1                \n",
      "torchtext                0.3.1                \n",
      "torchvision              0.3.0                \n",
      "tornado                  4.5.3                \n",
      "tqdm                     4.28.1               \n",
      "traitlets                4.3.2                \n",
      "tweepy                   3.6.0                \n",
      "typing                   3.7.4.1              \n",
      "tzlocal                  1.5.1                \n",
      "umap-learn               0.3.10               \n",
      "uritemplate              3.0.0                \n",
      "urllib3                  1.24.3               \n",
      "vega-datasets            0.7.0                \n",
      "wasabi                   0.2.2                \n",
      "wcwidth                  0.1.7                \n",
      "webencodings             0.5.1                \n",
      "Werkzeug                 0.15.5               \n",
      "wheel                    0.33.6               \n",
      "widgetsnbextension       3.5.1                \n",
      "wordcloud                1.5.0                \n",
      "wrapt                    1.11.2               \n",
      "xarray                   0.11.3               \n",
      "xgboost                  0.90                 \n",
      "xkit                     0.0.0                \n",
      "xlrd                     1.1.0                \n",
      "xlwt                     1.3.0                \n",
      "yellowbrick              0.9.1                \n",
      "zict                     1.0.0                \n",
      "zipp                     0.6.0                \n",
      "zmq                      0.0.0                \n"
     ]
    }
   ],
   "source": [
    "!pip list"
   ]
  },
  {
   "cell_type": "code",
   "execution_count": 0,
   "metadata": {
    "colab": {
     "base_uri": "https://localhost:8080/",
     "height": 55
    },
    "colab_type": "code",
    "executionInfo": {
     "elapsed": 1032,
     "status": "ok",
     "timestamp": 1567762530323,
     "user": {
      "displayName": "中曽根雄",
      "photoUrl": "",
      "userId": "09464543725176364259"
     },
     "user_tz": -540
    },
    "id": "_PuUJDe_ohwd",
    "outputId": "2d43d9e1-39f8-4ba3-d80c-bae5f3018fa8"
   },
   "outputs": [
    {
     "name": "stdout",
     "output_type": "stream",
     "text": [
      "Drive already mounted at /content/gdrive; to attempt to forcibly remount, call drive.mount(\"/content/gdrive\", force_remount=True).\n"
     ]
    }
   ],
   "source": [
    "from google.colab import drive\n",
    "drive.mount('/content/gdrive')"
   ]
  },
  {
   "cell_type": "code",
   "execution_count": 0,
   "metadata": {
    "colab": {
     "base_uri": "https://localhost:8080/",
     "height": 35
    },
    "colab_type": "code",
    "executionInfo": {
     "elapsed": 1172,
     "status": "ok",
     "timestamp": 1567762532436,
     "user": {
      "displayName": "中曽根雄",
      "photoUrl": "",
      "userId": "09464543725176364259"
     },
     "user_tz": -540
    },
    "id": "r9mb5ZS-JdEY",
    "outputId": "4c743ed8-fb10-4747-e26d-c7621748dc5b"
   },
   "outputs": [
    {
     "name": "stdout",
     "output_type": "stream",
     "text": [
      "/content/gdrive\n"
     ]
    }
   ],
   "source": [
    "cd /content/gdrive"
   ]
  },
  {
   "cell_type": "code",
   "execution_count": 0,
   "metadata": {
    "colab": {},
    "colab_type": "code",
    "id": "IGe95tyGp4-N"
   },
   "outputs": [],
   "source": [
    "import copy\n",
    "import time\n",
    "import numpy as np\n",
    "import matplotlib\n",
    "import matplotlib.pyplot as plt\n",
    "import torch\n",
    "import torch.nn as nn\n",
    "import torch.nn.functional as F\n",
    "from torch.nn.functional import relu as relu\n",
    "import torch.optim as optim\n",
    "from torch.autograd import Variable\n",
    "import gym\n",
    "from gym import wrappers"
   ]
  },
  {
   "cell_type": "code",
   "execution_count": 0,
   "metadata": {
    "colab": {
     "base_uri": "https://localhost:8080/",
     "height": 35
    },
    "colab_type": "code",
    "executionInfo": {
     "elapsed": 1447,
     "status": "ok",
     "timestamp": 1567762537703,
     "user": {
      "displayName": "中曽根雄",
      "photoUrl": "",
      "userId": "09464543725176364259"
     },
     "user_tz": -540
    },
    "id": "PdiETUDgp_IN",
    "outputId": "04b8c2d7-9fac-41d0-80a8-fc75212ce08c"
   },
   "outputs": [
    {
     "name": "stdout",
     "output_type": "stream",
     "text": [
      "4 200 2\n"
     ]
    }
   ],
   "source": [
    "env = gym.make(\"CartPole-v0\")\n",
    "\n",
    "num_obs = env.observation_space.shape[0]\n",
    "num_acts = env.action_space.n\n",
    "hidden = 200\n",
    "\n",
    "print(num_obs, hidden, num_acts)"
   ]
  },
  {
   "cell_type": "code",
   "execution_count": 0,
   "metadata": {
    "colab": {},
    "colab_type": "code",
    "id": "ZCeMQdHsquYt"
   },
   "outputs": [],
   "source": [
    "class Q(nn.Module):\n",
    "  def __init__(self):\n",
    "    super(Q, self).__init__()\n",
    "    self.fc1 = nn.Linear(num_obs, hidden)\n",
    "    self.fc2 = nn.Linear(hidden, hidden)\n",
    "    self.fc3 = nn.Linear(hidden, hidden)\n",
    "    self.fc4 = nn.Linear(hidden, num_acts)\n",
    "    \n",
    "  def forward(self, x):\n",
    "    x = relu(self.fc1(x))\n",
    "    x = relu(self.fc2(x))\n",
    "    x = relu(self.fc3(x))\n",
    "    x = relu(self.fc4(x))\n",
    "    return x"
   ]
  },
  {
   "cell_type": "code",
   "execution_count": 0,
   "metadata": {
    "colab": {},
    "colab_type": "code",
    "id": "Vy4f3PKzrzbH"
   },
   "outputs": [],
   "source": [
    "num_epoch = 3000\n",
    "max_step = 200\n",
    "memory_size = 200\n",
    "batch_size = 50\n",
    "epsilon = 1.0\n",
    "epsilon_decrease = 0.001\n",
    "epsilon_min = 0.1\n",
    "epsilon_reduce = 200\n",
    "train_frequency = 10\n",
    "update_frequency = 20\n",
    "gamma = 0.97\n",
    "log_frequency = 1000"
   ]
  },
  {
   "cell_type": "code",
   "execution_count": 0,
   "metadata": {
    "colab": {},
    "colab_type": "code",
    "id": "3BRqlu-Ytuke"
   },
   "outputs": [],
   "source": [
    "model = Q()\n",
    "Q_ast = copy.deepcopy(model)\n",
    "optimizer = optim.RMSprop(model.parameters(), lr=0.00015, alpha=0.95, eps=0.01)\n",
    "device = 'cuda' if torch.cuda.is_available() else 'cpu'"
   ]
  },
  {
   "cell_type": "code",
   "execution_count": 0,
   "metadata": {
    "colab": {
     "base_uri": "https://localhost:8080/",
     "height": 245
    },
    "colab_type": "code",
    "executionInfo": {
     "elapsed": 1111,
     "status": "error",
     "timestamp": 1567760253659,
     "user": {
      "displayName": "中曽根雄",
      "photoUrl": "",
      "userId": "09464543725176364259"
     },
     "user_tz": -540
    },
    "id": "OkUbl_Pc6RGY",
    "outputId": "7d15112a-7274-4d5b-8c60-10bba82168cd"
   },
   "outputs": [
    {
     "ename": "NameError",
     "evalue": "ignored",
     "output_type": "error",
     "traceback": [
      "\u001b[0;31m---------------------------------------------------------------------------\u001b[0m",
      "\u001b[0;31mNameError\u001b[0m                                 Traceback (most recent call last)",
      "\u001b[0;32m<ipython-input-31-c7bfe57cc7ee>\u001b[0m in \u001b[0;36m<module>\u001b[0;34m()\u001b[0m\n\u001b[1;32m     70\u001b[0m   \u001b[0mtotal_rewards\u001b[0m\u001b[0;34m.\u001b[0m\u001b[0mappend\u001b[0m\u001b[0;34m(\u001b[0m\u001b[0mtotal_reward\u001b[0m\u001b[0;34m)\u001b[0m\u001b[0;34m\u001b[0m\u001b[0;34m\u001b[0m\u001b[0m\n\u001b[1;32m     71\u001b[0m   \u001b[0;32mif\u001b[0m \u001b[0mstep\u001b[0m \u001b[0;34m>\u001b[0m \u001b[0mtrain_frequency\u001b[0m\u001b[0;34m:\u001b[0m\u001b[0;34m\u001b[0m\u001b[0;34m\u001b[0m\u001b[0m\n\u001b[0;32m---> 72\u001b[0;31m     \u001b[0mlosses\u001b[0m\u001b[0;34m.\u001b[0m\u001b[0mappend\u001b[0m\u001b[0;34m(\u001b[0m\u001b[0mloss_\u001b[0m\u001b[0;34m.\u001b[0m\u001b[0mdata\u001b[0m\u001b[0;34m.\u001b[0m\u001b[0mnumpy\u001b[0m\u001b[0;34m(\u001b[0m\u001b[0;34m)\u001b[0m\u001b[0;34m.\u001b[0m\u001b[0mtolist\u001b[0m\u001b[0;34m(\u001b[0m\u001b[0;34m)\u001b[0m\u001b[0;34m)\u001b[0m\u001b[0;34m\u001b[0m\u001b[0;34m\u001b[0m\u001b[0m\n\u001b[0m\u001b[1;32m     73\u001b[0m \u001b[0;34m\u001b[0m\u001b[0m\n\u001b[1;32m     74\u001b[0m   \u001b[0;32mif\u001b[0m \u001b[0;34m(\u001b[0m\u001b[0mepoch\u001b[0m\u001b[0;34m+\u001b[0m\u001b[0;36m1\u001b[0m\u001b[0;34m)\u001b[0m \u001b[0;34m%\u001b[0m \u001b[0mlog_frequency\u001b[0m \u001b[0;34m==\u001b[0m \u001b[0;36m0\u001b[0m\u001b[0;34m:\u001b[0m\u001b[0;34m\u001b[0m\u001b[0;34m\u001b[0m\u001b[0m\n",
      "\u001b[0;31mNameError\u001b[0m: name 'loss_' is not defined"
     ]
    }
   ],
   "source": [
    "total_step = 0\n",
    "memory = []\n",
    "total_rewards = []\n",
    "losses = []\n",
    "\n",
    "for epoch in range(num_epoch):\n",
    "  pre_obs = env.reset()\n",
    "  step = 0\n",
    "  done = False\n",
    "  total_reward = 0\n",
    "  \n",
    "  while not done and step < max_step:\n",
    "    pre_act = env.action_space.sample()\n",
    "    \n",
    "    # greedy\n",
    "    if np.random.rand() > epsilon:\n",
    "      pre_obs_ = np.array(pre_obs, dtype=\"float32\").reshape((1, num_obs))\n",
    "      pre_obs_ = torch.from_numpy(pre_obs_)\n",
    "      pre_act = model(pre_obs_)\n",
    "      _, datas = torch.max(pre_act.data, 1)\n",
    "      pre_act = datas.numpy()[0]\n",
    "      \n",
    "    obs, reward, done, _ = env.step(pre_act)\n",
    "    if done:\n",
    "      reward = -1\n",
    "      \n",
    "    memory.append((pre_obs, pre_act, reward, obs, done))\n",
    "    if len(memory) > memory_size:\n",
    "      memory.pop(0)\n",
    "      \n",
    "    if len(memory) == memory_size:\n",
    "      if total_step % train_frequency == 0:\n",
    "        memory_ = np.random.permutation(memory)\n",
    "        memory_range = range(len(memory_))\n",
    "        for i in memory_range[::batch_size]:\n",
    "          batch = np.array(memory_[i:i+batch_size]) \n",
    "          pre_obss = np.array(batch[:,0].tolist(), dtype=\"float32\").reshape((batch_size, num_obs))\n",
    "          pre_acts = np.array(batch[:,1].tolist(), dtype=\"int32\")\n",
    "          rewards = np.array(batch[:,2].tolist(), dtype=\"int32\")\n",
    "          obss = np.array(batch[:,3].tolist(), dtype=\"float32\").reshape((batch_size, num_obs))\n",
    "          dones = np.array(batch[:,4].tolist(), dtype=\"bool\")\n",
    "          \n",
    "\n",
    "          pre_obss_ = torch.from_numpy(pre_obss)\n",
    "          q = model(pre_obss_)\n",
    "          obss_ = torch.from_numpy(obss)\n",
    "          maxs, indices = torch.max(Q_ast(obss_).data, 1)\n",
    "          maxq = maxs.numpy() \n",
    "          target = copy.deepcopy(q.data.numpy())\n",
    "          for j in range(batch_size):\n",
    "              target[j, pre_acts[j]] = rewards[j]+gamma*maxq[j]*(not dones[j])\n",
    "   \n",
    "          optimizer.zero_grad()\n",
    "          loss = nn.MSELoss()(q,torch.from_numpy(target))\n",
    "          loss.backward()\n",
    "          optimizer.step()\n",
    "          \n",
    "      if total_step % update_frequency == 0:\n",
    "        Q_ast = copy.deepcopy(model)\n",
    "        \n",
    "    if epsilon > epsilon_min and total_step > epsilon_reduce:\n",
    "      epsilon -= epsilon_decrease  \n",
    "      \n",
    "    total_reward += reward\n",
    "    step += 1\n",
    "    total_step += 1\n",
    "    pre_obs = obs\n",
    "    \n",
    "  total_rewards.append(total_reward)\n",
    "  \n",
    "  if (epoch+1) % log_frequency == 0:\n",
    "    print(epoch+1, total_reward)\n",
    "    \n",
    "\n",
    "print(\"finish!\")"
   ]
  },
  {
   "cell_type": "code",
   "execution_count": 0,
   "metadata": {
    "colab": {
     "base_uri": "https://localhost:8080/",
     "height": 35
    },
    "colab_type": "code",
    "executionInfo": {
     "elapsed": 876,
     "status": "ok",
     "timestamp": 1567586118814,
     "user": {
      "displayName": "中曽根雄",
      "photoUrl": "",
      "userId": "09464543725176364259"
     },
     "user_tz": -540
    },
    "id": "zqPAv62pZeI-",
    "outputId": "e51c0a93-ce6c-4f6d-a3db-d2bd24e073a0"
   },
   "outputs": [
    {
     "data": {
      "text/plain": [
       "-6.633501"
      ]
     },
     "execution_count": 233,
     "metadata": {
      "tags": []
     },
     "output_type": "execute_result"
    }
   ],
   "source": [
    "td"
   ]
  },
  {
   "cell_type": "code",
   "execution_count": 0,
   "metadata": {
    "colab": {
     "base_uri": "https://localhost:8080/",
     "height": 296
    },
    "colab_type": "code",
    "executionInfo": {
     "elapsed": 1565,
     "status": "ok",
     "timestamp": 1567759905966,
     "user": {
      "displayName": "中曽根雄",
      "photoUrl": "",
      "userId": "09464543725176364259"
     },
     "user_tz": -540
    },
    "id": "DAbcmZPIexZQ",
    "outputId": "764b3794-624c-4edb-8dd3-ea4b488cb98e"
   },
   "outputs": [
    {
     "data": {
      "image/png": "[encoded data removed]",
      "text/plain": [
       "<Figure size 432x288 with 1 Axes>"
      ]
     },
     "metadata": {
      "tags": []
     },
     "output_type": "display_data"
    }
   ],
   "source": [
    "resize = (len(total_rewards)//10, 10)\n",
    "tmp = np.array(total_rewards, dtype=\"float32\").reshape(resize)\n",
    "tmp = np.average(tmp, axis=1)\n",
    "plt.plot(tmp, color=\"cyan\")\n",
    "plt.xlabel(\"num_epochs\")\n",
    "plt.title(\"total_reward\")\n",
    "plt.savefig(\"My Drive/強化学習/total_rewards.png\")\n",
    "plt.show()"
   ]
  },
  {
   "cell_type": "code",
   "execution_count": 0,
   "metadata": {
    "colab": {
     "base_uri": "https://localhost:8080/",
     "height": 314
    },
    "colab_type": "code",
    "executionInfo": {
     "elapsed": 1391,
     "status": "ok",
     "timestamp": 1567759572524,
     "user": {
      "displayName": "中曽根雄",
      "photoUrl": "",
      "userId": "09464543725176364259"
     },
     "user_tz": -540
    },
    "id": "UFF3VLrGFj-V",
    "outputId": "f758a412-1db3-460e-b2b2-22552b3c9748"
   },
   "outputs": [
    {
     "data": {
      "image/png": "[encoded data removed]",
      "text/plain": [
       "<Figure size 432x288 with 1 Axes>"
      ]
     },
     "metadata": {
      "tags": []
     },
     "output_type": "display_data"
    },
    {
     "data": {
      "text/plain": [
       "<Figure size 432x288 with 0 Axes>"
      ]
     },
     "metadata": {
      "tags": []
     },
     "output_type": "display_data"
    }
   ],
   "source": [
    "resize = (len(losses)//10, 10)\n",
    "tmp = np.array(losses, dtype=\"float32\").reshape(resize)\n",
    "tmp = np.average(tmp, axis=1)\n",
    "plt.plot(tmp, color=\"cyan\")\n",
    "plt.xlabel(\"num_epochs\")\n",
    "plt.title(\"loss\")\n",
    "plt.savefig(\"My Drive/強化学習/loss.png\")\n",
    "plt.show()"
   ]
  },
  {
   "cell_type": "markdown",
   "metadata": {
    "colab_type": "text",
    "id": "0uJ8xXITKN3l"
   },
   "source": [
    "# test"
   ]
  },
  {
   "cell_type": "code",
   "execution_count": 0,
   "metadata": {
    "colab": {},
    "colab_type": "code",
    "id": "SCLYmbs_23zh"
   },
   "outputs": [],
   "source": [
    "pre_obs = env.reset()\n",
    "step = 0\n",
    "done = False\n",
    "total_reward = 0\n",
    "total_rewards = []\n",
    "max_step = 200\n",
    "while not done and step < max_step:\n",
    "  pre_act = env.action_space.sample()\n",
    "\n",
    "  # greedy\n",
    "  if np.random.rand() > epsilon:\n",
    "    pre_obs_ = np.array(pre_obs, dtype=\"float32\").reshape((1, num_obs))\n",
    "    pre_obs_ = torch.from_numpy(pre_obs_)\n",
    "    pre_act = model(pre_obs_)\n",
    "    _, datas = torch.max(pre_act.data, 1)\n",
    "    pre_act = datas.numpy()[0]\n",
    "\n",
    "  obs, reward, done, _ = env.step(pre_act)\n",
    "  if done:\n",
    "    reward = -1\n",
    "\n",
    "  total_reward += reward\n",
    "  step += 1\n",
    "  total_step += 1\n",
    "  pre_obs = obs\n",
    "  \n",
    "  total_rewards.append(total_reward)\n",
    "  "
   ]
  },
  {
   "cell_type": "code",
   "execution_count": 0,
   "metadata": {
    "colab": {
     "base_uri": "https://localhost:8080/",
     "height": 296
    },
    "colab_type": "code",
    "executionInfo": {
     "elapsed": 654,
     "status": "ok",
     "timestamp": 1567583032194,
     "user": {
      "displayName": "中曽根雄",
      "photoUrl": "",
      "userId": "09464543725176364259"
     },
     "user_tz": -540
    },
    "id": "PeASYD6-GZcX",
    "outputId": "f2e52eec-64c2-428d-9853-501ede487e33"
   },
   "outputs": [
    {
     "data": {
      "image/png": "[encoded data removed]",
      "text/plain": [
       "<Figure size 432x288 with 1 Axes>"
      ]
     },
     "metadata": {
      "tags": []
     },
     "output_type": "display_data"
    }
   ],
   "source": [
    "# resize = (len(total_rewards)//10, 10)\n",
    "# tmp = np.array(total_rewards, dtype=\"float32\").reshape(resize)\n",
    "tmp = np.array(total_rewards, dtype=\"float32\")\n",
    "# tmp = np.average(tmp, axis=1)\n",
    "plt.plot(tmp, color=\"cyan\")\n",
    "plt.xlabel(\"num_epochs\")\n",
    "plt.title(\"total_reward\")\n",
    "plt.show()"
   ]
  },
  {
   "cell_type": "code",
   "execution_count": 0,
   "metadata": {
    "colab": {},
    "colab_type": "code",
    "id": "71_qEp_aOtAl"
   },
   "outputs": [],
   "source": [
    "import cloudpickle\n",
    "# 保存\n",
    "with open('My Drive/強化学習/model1.pkl', 'wb') as f:\n",
    "    cloudpickle.dump(model, f)"
   ]
  }
 ],
 "metadata": {
  "accelerator": "GPU",
  "colab": {
   "collapsed_sections": [],
   "name": "dqn_sample.ipynb",
   "provenance": [],
   "version": "0.3.2"
  },
  "kernelspec": {
   "display_name": "Python 3",
   "language": "python",
   "name": "python3"
  },
  "language_info": {
   "codemirror_mode": {
    "name": "ipython",
    "version": 3
   },
   "file_extension": ".py",
   "mimetype": "text/x-python",
   "name": "python",
   "nbconvert_exporter": "python",
   "pygments_lexer": "ipython3",
   "version": "3.7.2"
  }
 },
 "nbformat": 4,
 "nbformat_minor": 1
}
